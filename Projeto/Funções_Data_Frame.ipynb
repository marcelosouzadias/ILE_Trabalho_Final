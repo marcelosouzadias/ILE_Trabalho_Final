{
 "cells": [
  {
   "cell_type": "code",
   "execution_count": 101,
   "metadata": {},
   "outputs": [
    {
     "name": "stdout",
     "output_type": "stream",
     "text": [
      "2\n"
     ]
    }
   ],
   "source": [
    "import pandas as pd\n",
    "import sqlite3 as cn\n",
    "\n",
    "#FUNÇÃO QUE RETORNA A QUANTIDADE DE VENDAS POR ESTADO\n",
    "\n",
    "#conexão com o banco de dados\n",
    "conexao = cn.connect('exercício_final.db')\n",
    "\n",
    "#tabela de Clientes\n",
    "tb_Clientes = pd.read_sql(\"select id_cliente, des_uf from tb_clientes where des_uf = '\" + str(estado).upper() + \"'\", conexao)    \n",
    "#tb_Clientes = pd.read_sql(\"select id_cliente, des_uf from tb_clientes\", conexao)    \n",
    "\n",
    "#tabela de pedidos\n",
    "tb_pedidos = pd.read_csv('pedidos.csv')\n",
    "\n",
    "#Fecha conexão com o banco de dados\n",
    "conexao.close()\n",
    "\n",
    "#join cliente x pedidos    \n",
    "join_cliente_pedido = pd.merge(tb_Clientes, tb_pedidos, how='inner', on=['id_cliente','id_cliente'])    \n",
    "\n",
    "teste = join_cliente_pedido.groupby('des_uf').apply(lambda x: len(x['num_nf'].unique())).sort_values(ascending=False).values[0]\n",
    "print(teste)"
   ]
  },
  {
   "cell_type": "code",
   "execution_count": 120,
   "metadata": {},
   "outputs": [
    {
     "name": "stdout",
     "output_type": "stream",
     "text": [
      "117084.06\n"
     ]
    }
   ],
   "source": [
    "import pandas as pd\n",
    "import sqlite3 as cn\n",
    "\n",
    "#FUNÇÃO QUE RETORNA O VALOR VENDAS\n",
    "#conexão com o banco de dados\n",
    "    conexao = cn.connect('exercício_final.db')\n",
    "\n",
    "    estado = 'GO'\n",
    "\n",
    "    #tabela de Clientes\n",
    "    tb_Clientes = pd.read_sql(\"select id_cliente, des_uf from tb_clientes where des_uf = '\" + str(estado).upper() + \"'\", conexao)    \n",
    "\n",
    "    #Tabela de Produtos\n",
    "    tb_Produtos = pd.read_sql(\"select * from tb_produtos\", conexao)\n",
    "\n",
    "    #tabela de pedidos\n",
    "    tb_pedidos = pd.read_csv('pedidos.csv')\n",
    "\n",
    "    #Fecha conexão com o banco de dados\n",
    "    conexao.close()\n",
    "\n",
    "    #join cliente x pedidos    \n",
    "    join_cliente_pedido = pd.merge(tb_Clientes, tb_pedidos, how='inner', on=['id_cliente','id_cliente'])\n",
    "\n",
    "    #join clinte x pedidos x produtos\n",
    "    tb_geral = pd.merge(join_cliente_pedido, tb_Produtos, how='inner', on=['id_produto', 'id_produto'])\n",
    "\n",
    "\n",
    "    tb_geral['vl_total'] = tb_geral['qtd_vendida'] * tb_geral['val_produto']\n",
    "\n",
    "    print(tb_geral.groupby('des_uf').apply(lambda x: x['vl_total'].sum()).sort_values(ascending=False).values[0])"
   ]
  }
 ],
 "metadata": {
  "kernelspec": {
   "display_name": "Python 3",
   "language": "python",
   "name": "python3"
  },
  "language_info": {
   "codemirror_mode": {
    "name": "ipython",
    "version": 3
   },
   "file_extension": ".py",
   "mimetype": "text/x-python",
   "name": "python",
   "nbconvert_exporter": "python",
   "pygments_lexer": "ipython3",
   "version": "3.6.1"
  }
 },
 "nbformat": 4,
 "nbformat_minor": 2
}
